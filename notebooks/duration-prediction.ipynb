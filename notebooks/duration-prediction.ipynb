{
 "cells": [
  {
   "cell_type": "code",
   "execution_count": null,
   "id": "35b9ad23",
   "metadata": {},
   "outputs": [],
   "source": [
    "import pickle\n",
    "\n",
    "import altair as alt\n",
    "import polars as pl\n",
    "from sklearn.feature_extraction import DictVectorizer\n",
    "from sklearn.linear_model import Lasso, LinearRegression, Ridge\n",
    "from sklearn.metrics import root_mean_squared_error"
   ]
  },
  {
   "cell_type": "code",
   "execution_count": null,
   "id": "329c3bd8",
   "metadata": {},
   "outputs": [
    {
     "name": "stdout",
     "output_type": "stream",
     "text": [
      "Rows: 76518\n",
      "Columns: 20\n",
      "$ VendorID                       <i64> 2, 2, 2, 2, 2, 2, 2, 2, 2, 2\n",
      "$ lpep_pickup_datetime  <datetime[ns]> 2021-01-01 00:15:56, 2021-01-01 00:25:59, 2021-01-01 00:45:57, 2020-12-31 23:57:51, 2021-01-01 00:16:36, 2021-01-01 00:16:36, 2021-01-01 00:19:14, 2021-01-01 00:26:31, 2021-01-01 00:57:46, 2021-01-01 00:58:32\n",
      "$ lpep_dropoff_datetime <datetime[ns]> 2021-01-01 00:19:52, 2021-01-01 00:34:44, 2021-01-01 00:51:55, 2021-01-01 00:04:56, 2021-01-01 00:16:40, 2021-01-01 00:16:40, 2021-01-01 00:19:21, 2021-01-01 00:28:50, 2021-01-01 00:57:57, 2021-01-01 01:32:34\n",
      "$ store_and_fwd_flag             <str> 'N', 'N', 'N', 'N', 'N', 'N', 'N', 'N', 'N', 'N'\n",
      "$ RatecodeID                     <f64> 1.0, 1.0, 1.0, 1.0, 2.0, 2.0, 5.0, 1.0, 1.0, 1.0\n",
      "$ PULocationID                   <i64> 43, 166, 41, 168, 265, 265, 265, 75, 225, 225\n",
      "$ DOLocationID                   <i64> 151, 239, 42, 75, 265, 265, 265, 75, 225, 265\n",
      "$ passenger_count                <f64> 1.0, 1.0, 1.0, 1.0, 3.0, 3.0, 1.0, 6.0, 1.0, 1.0\n",
      "$ trip_distance                  <f64> 1.01, 2.53, 1.12, 1.99, 0.0, 0.0, 0.0, 0.45, 0.0, 12.19\n",
      "$ fare_amount                    <f64> 5.5, 10.0, 6.0, 8.0, -52.0, 52.0, 180.0, 3.5, 2.5, 38.0\n",
      "$ extra                          <f64> 0.5, 0.5, 0.5, 0.5, 0.0, 0.0, 0.0, 0.5, 0.5, 0.5\n",
      "$ mta_tax                        <f64> 0.5, 0.5, 0.5, 0.5, -0.5, 0.5, 0.0, 0.5, 0.5, 0.5\n",
      "$ tip_amount                     <f64> 0.0, 2.81, 1.0, 0.0, 0.0, 0.0, 36.06, 0.96, 0.0, 2.75\n",
      "$ tolls_amount                   <f64> 0.0, 0.0, 0.0, 0.0, 0.0, 0.0, 0.0, 0.0, 0.0, 0.0\n",
      "$ ehail_fee                     <null> None, None, None, None, None, None, None, None, None, None\n",
      "$ improvement_surcharge          <f64> 0.3, 0.3, 0.3, 0.3, -0.3, 0.3, 0.3, 0.3, 0.3, 0.3\n",
      "$ total_amount                   <f64> 6.8, 16.86, 8.3, 9.3, -52.8, 52.8, 216.36, 5.76, 3.8, 42.05\n",
      "$ payment_type                   <f64> 2.0, 1.0, 1.0, 2.0, 3.0, 2.0, 1.0, 1.0, 2.0, 1.0\n",
      "$ trip_type                      <f64> 1.0, 1.0, 1.0, 1.0, 1.0, 1.0, 2.0, 1.0, 1.0, 1.0\n",
      "$ congestion_surcharge           <f64> 0.0, 2.75, 0.0, 0.0, 0.0, 0.0, 0.0, 0.0, 0.0, 0.0\n",
      "\n"
     ]
    }
   ],
   "source": [
    "data_path = \"../data/green_tripdata_2021-01.parquet\"\n",
    "df = pl.read_parquet(data_path)\n",
    "\n",
    "categorical = [\"PULocationID\", \"DOLocationID\"]\n",
    "numerical = [\"trip_distance\"]\n",
    "\n",
    "df = (\n",
    "    df.with_columns(\n",
    "        pl.col(categorical).cast(pl.String()),\n",
    "        pl.col(\"lpep_dropoff_datetime\")\n",
    "        .sub(pl.col(\"lpep_pickup_datetime\"))\n",
    "        .alias(\"duration\"),\n",
    "    )\n",
    "    .filter(\n",
    "        pl.col(\"duration\")\n",
    "        .ge(pl.duration(minutes=1))\n",
    "        .and_(pl.col(\"duration\").le(pl.duration(minutes=60)))\n",
    "    )\n",
    "    .with_columns(\n",
    "        pl.col(\"duration\").dt.total_seconds().truediv(60).alias(\"duration_minutes\"),\n",
    "    )\n",
    ")\n",
    "\n",
    "df.glimpse()"
   ]
  },
  {
   "cell_type": "code",
   "execution_count": null,
   "id": "5669f114",
   "metadata": {},
   "outputs": [],
   "source": [
    "train_dicts = df.select(pl.col(categorical + numerical)).to_dicts()\n",
    "\n",
    "dv = DictVectorizer()\n",
    "X_train = dv.fit_transform(train_dicts)\n",
    "\n",
    "target = \"duration_minutes\"\n",
    "y_train = df[target].to_numpy()\n",
    "\n",
    "model = LinearRegression()\n",
    "model.fit(X_train, y_train)\n",
    "\n",
    "y_pred = model.predict(X_train)\n",
    "root_mean_squared_error(y_train, y_pred)"
   ]
  }
 ],
 "metadata": {
  "kernelspec": {
   "display_name": ".venv",
   "language": "python",
   "name": "python3"
  },
  "language_info": {
   "codemirror_mode": {
    "name": "ipython",
    "version": 3
   },
   "file_extension": ".py",
   "mimetype": "text/x-python",
   "name": "python",
   "nbconvert_exporter": "python",
   "pygments_lexer": "ipython3",
   "version": "3.13.4"
  }
 },
 "nbformat": 4,
 "nbformat_minor": 5
}
